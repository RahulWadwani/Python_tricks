{
 "cells": [
  {
   "cell_type": "code",
   "execution_count": 1,
   "id": "290483e1",
   "metadata": {},
   "outputs": [],
   "source": [
    "# assert in python "
   ]
  },
  {
   "cell_type": "code",
   "execution_count": 36,
   "id": "e2c3a4ae",
   "metadata": {},
   "outputs": [
    {
     "name": "stdout",
     "output_type": "stream",
     "text": [
      "Original price is Rs.100\n",
      "Discounted price for Boat Earbuds is Rs.90\n"
     ]
    }
   ],
   "source": [
    "def apply_discount(product,discount):\n",
    "    price = int(product['price']*(1.0 - discount))\n",
    "    assert 0 <= price <= product['price']\n",
    "    return price\n",
    "\n",
    "product = {'prod_name':'Boat Earbuds','price': 100}\n",
    "print('Original price is Rs.'+ str(product['price']))\n",
    "print('Discounted price for ' + product['prod_name'] + ' is Rs.' + str(apply_discount(product,0.1)))"
   ]
  },
  {
   "cell_type": "code",
   "execution_count": 37,
   "id": "5226a157",
   "metadata": {},
   "outputs": [
    {
     "name": "stdout",
     "output_type": "stream",
     "text": [
      "Original price is Rs.100\n"
     ]
    },
    {
     "ename": "AssertionError",
     "evalue": "",
     "output_type": "error",
     "traceback": [
      "\u001b[0;31m---------------------------------------------------------------------------\u001b[0m",
      "\u001b[0;31mAssertionError\u001b[0m                            Traceback (most recent call last)",
      "\u001b[0;32m/tmp/ipykernel_3377/3432536331.py\u001b[0m in \u001b[0;36m<module>\u001b[0;34m\u001b[0m\n\u001b[1;32m      6\u001b[0m \u001b[0mproduct\u001b[0m \u001b[0;34m=\u001b[0m \u001b[0;34m{\u001b[0m\u001b[0;34m'prod_name'\u001b[0m\u001b[0;34m:\u001b[0m\u001b[0;34m'Boat Earbuds'\u001b[0m\u001b[0;34m,\u001b[0m\u001b[0;34m'price'\u001b[0m\u001b[0;34m:\u001b[0m \u001b[0;36m100\u001b[0m\u001b[0;34m}\u001b[0m\u001b[0;34m\u001b[0m\u001b[0;34m\u001b[0m\u001b[0m\n\u001b[1;32m      7\u001b[0m \u001b[0mprint\u001b[0m\u001b[0;34m(\u001b[0m\u001b[0;34m'Original price is Rs.'\u001b[0m\u001b[0;34m+\u001b[0m \u001b[0mstr\u001b[0m\u001b[0;34m(\u001b[0m\u001b[0mproduct\u001b[0m\u001b[0;34m[\u001b[0m\u001b[0;34m'price'\u001b[0m\u001b[0;34m]\u001b[0m\u001b[0;34m)\u001b[0m\u001b[0;34m)\u001b[0m\u001b[0;34m\u001b[0m\u001b[0;34m\u001b[0m\u001b[0m\n\u001b[0;32m----> 8\u001b[0;31m \u001b[0mprint\u001b[0m\u001b[0;34m(\u001b[0m\u001b[0;34m'Discounted price for '\u001b[0m \u001b[0;34m+\u001b[0m \u001b[0mproduct\u001b[0m\u001b[0;34m[\u001b[0m\u001b[0;34m'prod_name'\u001b[0m\u001b[0;34m]\u001b[0m \u001b[0;34m+\u001b[0m \u001b[0;34m' is Rs.'\u001b[0m \u001b[0;34m+\u001b[0m \u001b[0mstr\u001b[0m\u001b[0;34m(\u001b[0m\u001b[0mapply_discount\u001b[0m\u001b[0;34m(\u001b[0m\u001b[0mproduct\u001b[0m\u001b[0;34m,\u001b[0m\u001b[0;36m2\u001b[0m\u001b[0;34m)\u001b[0m\u001b[0;34m)\u001b[0m\u001b[0;34m)\u001b[0m\u001b[0;34m\u001b[0m\u001b[0;34m\u001b[0m\u001b[0m\n\u001b[0m",
      "\u001b[0;32m/tmp/ipykernel_3377/3432536331.py\u001b[0m in \u001b[0;36mapply_discount\u001b[0;34m(product, discount)\u001b[0m\n\u001b[1;32m      1\u001b[0m \u001b[0;32mdef\u001b[0m \u001b[0mapply_discount\u001b[0m\u001b[0;34m(\u001b[0m\u001b[0mproduct\u001b[0m\u001b[0;34m,\u001b[0m\u001b[0mdiscount\u001b[0m\u001b[0;34m)\u001b[0m\u001b[0;34m:\u001b[0m\u001b[0;34m\u001b[0m\u001b[0;34m\u001b[0m\u001b[0m\n\u001b[1;32m      2\u001b[0m     \u001b[0mprice\u001b[0m \u001b[0;34m=\u001b[0m \u001b[0mint\u001b[0m\u001b[0;34m(\u001b[0m\u001b[0mproduct\u001b[0m\u001b[0;34m[\u001b[0m\u001b[0;34m'price'\u001b[0m\u001b[0;34m]\u001b[0m\u001b[0;34m*\u001b[0m\u001b[0;34m(\u001b[0m\u001b[0;36m1.0\u001b[0m \u001b[0;34m-\u001b[0m \u001b[0mdiscount\u001b[0m\u001b[0;34m)\u001b[0m\u001b[0;34m)\u001b[0m\u001b[0;34m\u001b[0m\u001b[0;34m\u001b[0m\u001b[0m\n\u001b[0;32m----> 3\u001b[0;31m     \u001b[0;32massert\u001b[0m \u001b[0;36m0\u001b[0m \u001b[0;34m<=\u001b[0m \u001b[0mprice\u001b[0m \u001b[0;34m<=\u001b[0m \u001b[0mproduct\u001b[0m\u001b[0;34m[\u001b[0m\u001b[0;34m'price'\u001b[0m\u001b[0;34m]\u001b[0m\u001b[0;34m\u001b[0m\u001b[0;34m\u001b[0m\u001b[0m\n\u001b[0m\u001b[1;32m      4\u001b[0m     \u001b[0;32mreturn\u001b[0m \u001b[0mprice\u001b[0m\u001b[0;34m\u001b[0m\u001b[0;34m\u001b[0m\u001b[0m\n\u001b[1;32m      5\u001b[0m \u001b[0;34m\u001b[0m\u001b[0m\n",
      "\u001b[0;31mAssertionError\u001b[0m: "
     ]
    }
   ],
   "source": [
    "def apply_discount(product,discount):\n",
    "    price = int(product['price']*(1.0 - discount))\n",
    "    assert 0 <= price <= product['price']\n",
    "    return price\n",
    "\n",
    "product = {'prod_name':'Boat Earbuds','price': 100}\n",
    "print('Original price is Rs.'+ str(product['price']))\n",
    "print('Discounted price for ' + product['prod_name'] + ' is Rs.' + str(apply_discount(product,2)))"
   ]
  },
  {
   "cell_type": "code",
   "execution_count": 30,
   "id": "223b335d",
   "metadata": {},
   "outputs": [
    {
     "name": "stdout",
     "output_type": "stream",
     "text": [
      "Original price is Rs.100\n",
      "Discounted price for Boat Earbuds is Rs.90\n"
     ]
    }
   ],
   "source": [
    "# python's assert syntax \n",
    "assert_stmt ::= 'assert' expression [',',expression2]\n",
    "\n",
    "\n",
    "# nevers \n",
    "# data validation \n",
    "# assert that never Fail"
   ]
  },
  {
   "cell_type": "code",
   "execution_count": 41,
   "id": "6d3b29be",
   "metadata": {},
   "outputs": [],
   "source": [
    "#context managers and the with statements "
   ]
  },
  {
   "cell_type": "code",
   "execution_count": 51,
   "id": "ae85c91f",
   "metadata": {},
   "outputs": [],
   "source": [
    "with open('hello.txt','w') as fd:\n",
    "    try:\n",
    "        fd.write('hello How you doing!')\n",
    "    except:\n",
    "        fd.close()"
   ]
  },
  {
   "cell_type": "code",
   "execution_count": 52,
   "id": "ec592883",
   "metadata": {},
   "outputs": [
    {
     "name": "stdout",
     "output_type": "stream",
     "text": [
      "hello How you doing!\n"
     ]
    }
   ],
   "source": [
    "with open('hello.txt','r') as fd:\n",
    "    try:\n",
    "        txt = fd.read()\n",
    "    except:\n",
    "        fd.close()\n",
    "print(txt)"
   ]
  },
  {
   "cell_type": "code",
   "execution_count": 54,
   "id": "7a61b3d3",
   "metadata": {},
   "outputs": [
    {
     "name": "stdout",
     "output_type": "stream",
     "text": [
      "something\n"
     ]
    }
   ],
   "source": [
    "import threading\n",
    "some_lock = threading.Lock()\n",
    "# Harmful\n",
    "some_lock.acquire()\n",
    "try:\n",
    "    print('something')\n",
    "except:\n",
    "    some_lock.release()\n",
    "    "
   ]
  },
  {
   "cell_type": "code",
   "execution_count": null,
   "id": "de17fdac",
   "metadata": {},
   "outputs": [],
   "source": [
    "# data abstraction \n",
    "with some_lock:\n",
    "    try:\n",
    "        print('hello everybody')\n",
    "    except:\n",
    "        some_lock.release()\n",
    "    "
   ]
  },
  {
   "cell_type": "code",
   "execution_count": 1,
   "id": "62f6e73e",
   "metadata": {},
   "outputs": [],
   "source": [
    "class ManagedFile:\n",
    "    def __init__(self, name):\n",
    "        self.name = name\n",
    "    def __enter__(self):\n",
    "        self.file = open(self.name, 'w')\n",
    "        return self.file\n",
    "    def __exit__(self, exc_type, exc_val, exc_tb):\n",
    "        if self.file:\n",
    "            self.file.close()"
   ]
  },
  {
   "cell_type": "code",
   "execution_count": 4,
   "id": "6205d89f",
   "metadata": {},
   "outputs": [],
   "source": [
    "with ManagedFile('hello.txt') as f:\n",
    "    f.write('hello, world!')\n",
    "    f.write('\\n')\n",
    "    f.write('bye now')"
   ]
  },
  {
   "cell_type": "code",
   "execution_count": 5,
   "id": "ba927745",
   "metadata": {},
   "outputs": [],
   "source": [
    "from contextlib import contextmanager\n",
    "@contextmanager                            # decorator\n",
    "def managed_file(name):\n",
    "    try:\n",
    "        f = open(name, 'w')\n",
    "        yield f\n",
    "    finally:\n",
    "        f.close()"
   ]
  },
  {
   "cell_type": "code",
   "execution_count": 7,
   "id": "a9909967",
   "metadata": {},
   "outputs": [],
   "source": [
    "with managed_file('hello.txt') as f:\n",
    "    f.write('hello, world!')\n",
    "    f.write('bye now 2')"
   ]
  },
  {
   "cell_type": "code",
   "execution_count": 13,
   "id": "74e90edf",
   "metadata": {},
   "outputs": [],
   "source": [
    "# Writing Pretty APIs with Context Managers"
   ]
  },
  {
   "cell_type": "code",
   "execution_count": 14,
   "id": "c9f6a41d",
   "metadata": {},
   "outputs": [],
   "source": [
    "class Indenter:\n",
    "    def __init__(self):\n",
    "        self.level = 0\n",
    "    def __enter__(self):\n",
    "        self.level += 1\n",
    "        return self\n",
    "    def __exit__(self, exc_type, exc_val, exc_tb):\n",
    "        self.level -= 1\n",
    "    def print(self, text):\n",
    "        print('    ' * self.level + text)"
   ]
  },
  {
   "cell_type": "code",
   "execution_count": 15,
   "id": "63443421",
   "metadata": {},
   "outputs": [
    {
     "name": "stdout",
     "output_type": "stream",
     "text": [
      "    hi!\n",
      "        hello\n",
      "            bonjour\n",
      "    hey\n"
     ]
    }
   ],
   "source": [
    "with Indenter() as indent:\n",
    "    indent.print('hi!')\n",
    "    with indent:\n",
    "        indent.print('hello')\n",
    "        with indent:\n",
    "            indent.print('bonjour')\n",
    "    indent.print('hey')"
   ]
  },
  {
   "cell_type": "code",
   "execution_count": 16,
   "id": "1ff65225",
   "metadata": {},
   "outputs": [],
   "source": [
    "## Single leading underscore: '_var'"
   ]
  },
  {
   "cell_type": "code",
   "execution_count": 20,
   "id": "34e97076",
   "metadata": {},
   "outputs": [],
   "source": [
    "class Test:\n",
    "    def __init__(self):\n",
    "        self.foo = 11\n",
    "        self._bar = 23"
   ]
  },
  {
   "cell_type": "code",
   "execution_count": 23,
   "id": "7e70a1f2",
   "metadata": {},
   "outputs": [
    {
     "name": "stdout",
     "output_type": "stream",
     "text": [
      "11\n",
      "23\n"
     ]
    }
   ],
   "source": [
    "t = Test()\n",
    "print(t.foo)\n",
    "print(t._bar)"
   ]
  },
  {
   "cell_type": "code",
   "execution_count": 24,
   "id": "e5bb3414",
   "metadata": {},
   "outputs": [],
   "source": [
    "def external_func():\n",
    "    return 23\n",
    "def _internal_func():\n",
    "    return 42"
   ]
  },
  {
   "cell_type": "code",
   "execution_count": 26,
   "id": "0fd2c138",
   "metadata": {},
   "outputs": [
    {
     "data": {
      "text/plain": [
       "23"
      ]
     },
     "execution_count": 26,
     "metadata": {},
     "output_type": "execute_result"
    }
   ],
   "source": [
    "external_func()"
   ]
  },
  {
   "cell_type": "code",
   "execution_count": 27,
   "id": "ae09d90b",
   "metadata": {},
   "outputs": [
    {
     "data": {
      "text/plain": [
       "42"
      ]
     },
     "execution_count": 27,
     "metadata": {},
     "output_type": "execute_result"
    }
   ],
   "source": [
    "_internal_func()"
   ]
  },
  {
   "cell_type": "code",
   "execution_count": null,
   "id": "0e1b0cb1",
   "metadata": {},
   "outputs": [],
   "source": [
    "## single trailing underscore : 'var_'\n",
    "### single trailing underscore helps you to use the python keywords as\n",
    "### a variable such as for_ can be used as a variable but for is a \n",
    "### looping statement "
   ]
  },
  {
   "cell_type": "code",
   "execution_count": 28,
   "id": "fbdad46e",
   "metadata": {},
   "outputs": [],
   "source": [
    "## double leading underscore: '__var' also known as dunder(double underscores)"
   ]
  },
  {
   "cell_type": "code",
   "execution_count": 29,
   "id": "d5e5ebb8",
   "metadata": {},
   "outputs": [],
   "source": [
    "class Test:\n",
    "    def __init__(self):\n",
    "        self.foo = 11\n",
    "        self._bar = 23\n",
    "        self.__baz = 23"
   ]
  },
  {
   "cell_type": "code",
   "execution_count": 30,
   "id": "f14dd5ef",
   "metadata": {},
   "outputs": [
    {
     "data": {
      "text/plain": [
       "['_Test__baz',\n",
       " '__class__',\n",
       " '__delattr__',\n",
       " '__dict__',\n",
       " '__dir__',\n",
       " '__doc__',\n",
       " '__eq__',\n",
       " '__format__',\n",
       " '__ge__',\n",
       " '__getattribute__',\n",
       " '__gt__',\n",
       " '__hash__',\n",
       " '__init__',\n",
       " '__init_subclass__',\n",
       " '__le__',\n",
       " '__lt__',\n",
       " '__module__',\n",
       " '__ne__',\n",
       " '__new__',\n",
       " '__reduce__',\n",
       " '__reduce_ex__',\n",
       " '__repr__',\n",
       " '__setattr__',\n",
       " '__sizeof__',\n",
       " '__str__',\n",
       " '__subclasshook__',\n",
       " '__weakref__',\n",
       " '_bar',\n",
       " 'foo']"
      ]
     },
     "execution_count": 30,
     "metadata": {},
     "output_type": "execute_result"
    }
   ],
   "source": [
    "t =Test()\n",
    "dir(t)"
   ]
  },
  {
   "cell_type": "code",
   "execution_count": 31,
   "id": "4802556d",
   "metadata": {},
   "outputs": [],
   "source": [
    "class ExtendedTest(Test):\n",
    "    def __init__(self):\n",
    "        super().__init__()\n",
    "        self.foo = 'overridden'\n",
    "        self._bar = 'overridden'\n",
    "        self.__baz = 'overridden'"
   ]
  },
  {
   "cell_type": "code",
   "execution_count": 32,
   "id": "f41e7414",
   "metadata": {},
   "outputs": [
    {
     "data": {
      "text/plain": [
       "'overridden'"
      ]
     },
     "execution_count": 32,
     "metadata": {},
     "output_type": "execute_result"
    }
   ],
   "source": [
    "t2 = ExtendedTest()\n",
    "t2.foo               # shows no error while accessing the method"
   ]
  },
  {
   "cell_type": "code",
   "execution_count": 33,
   "id": "b437743a",
   "metadata": {},
   "outputs": [
    {
     "data": {
      "text/plain": [
       "'overridden'"
      ]
     },
     "execution_count": 33,
     "metadata": {},
     "output_type": "execute_result"
    }
   ],
   "source": [
    "t2._bar             # shows no error while accessing the method"
   ]
  },
  {
   "cell_type": "code",
   "execution_count": 34,
   "id": "55941adc",
   "metadata": {},
   "outputs": [
    {
     "ename": "AttributeError",
     "evalue": "'ExtendedTest' object has no attribute '__baz'",
     "output_type": "error",
     "traceback": [
      "\u001b[0;31m---------------------------------------------------------------------------\u001b[0m",
      "\u001b[0;31mAttributeError\u001b[0m                            Traceback (most recent call last)",
      "\u001b[0;32m/tmp/ipykernel_5627/3261563431.py\u001b[0m in \u001b[0;36m<module>\u001b[0;34m\u001b[0m\n\u001b[0;32m----> 1\u001b[0;31m \u001b[0mt2\u001b[0m\u001b[0;34m.\u001b[0m\u001b[0m__baz\u001b[0m\u001b[0;34m\u001b[0m\u001b[0;34m\u001b[0m\u001b[0m\n\u001b[0m",
      "\u001b[0;31mAttributeError\u001b[0m: 'ExtendedTest' object has no attribute '__baz'"
     ]
    }
   ],
   "source": [
    "t2.__baz          # as no such variable __baz exists in the dir hence shows the attribute error"
   ]
  },
  {
   "cell_type": "code",
   "execution_count": 35,
   "id": "3cf98a70",
   "metadata": {},
   "outputs": [
    {
     "data": {
      "text/plain": [
       "['_ExtendedTest__baz',\n",
       " '_Test__baz',\n",
       " '__class__',\n",
       " '__delattr__',\n",
       " '__dict__',\n",
       " '__dir__',\n",
       " '__doc__',\n",
       " '__eq__',\n",
       " '__format__',\n",
       " '__ge__',\n",
       " '__getattribute__',\n",
       " '__gt__',\n",
       " '__hash__',\n",
       " '__init__',\n",
       " '__init_subclass__',\n",
       " '__le__',\n",
       " '__lt__',\n",
       " '__module__',\n",
       " '__ne__',\n",
       " '__new__',\n",
       " '__reduce__',\n",
       " '__reduce_ex__',\n",
       " '__repr__',\n",
       " '__setattr__',\n",
       " '__sizeof__',\n",
       " '__str__',\n",
       " '__subclasshook__',\n",
       " '__weakref__',\n",
       " '_bar',\n",
       " 'foo']"
      ]
     },
     "execution_count": 35,
     "metadata": {},
     "output_type": "execute_result"
    }
   ],
   "source": [
    "dir(t2)          # proof that __baz does not exist"
   ]
  },
  {
   "cell_type": "code",
   "execution_count": 36,
   "id": "0a4a3428",
   "metadata": {},
   "outputs": [
    {
     "data": {
      "text/plain": [
       "23"
      ]
     },
     "execution_count": 36,
     "metadata": {},
     "output_type": "execute_result"
    }
   ],
   "source": [
    "t2._Test__baz          # stores the values of __baz data in _Test__baz"
   ]
  },
  {
   "cell_type": "code",
   "execution_count": 37,
   "id": "c539fc28",
   "metadata": {},
   "outputs": [],
   "source": [
    "class ManglingTest:\n",
    "    def __init__(self):\n",
    "        self.__mangled = 'hello'\n",
    "    def get_mangled(self):\n",
    "        return self.__mangled"
   ]
  },
  {
   "cell_type": "code",
   "execution_count": 38,
   "id": "81f54feb",
   "metadata": {},
   "outputs": [
    {
     "data": {
      "text/plain": [
       "'hello'"
      ]
     },
     "execution_count": 38,
     "metadata": {},
     "output_type": "execute_result"
    }
   ],
   "source": [
    "ManglingTest().get_mangled()"
   ]
  },
  {
   "cell_type": "code",
   "execution_count": 40,
   "id": "6701396e",
   "metadata": {},
   "outputs": [
    {
     "ename": "AttributeError",
     "evalue": "'ManglingTest' object has no attribute '__mangled'",
     "output_type": "error",
     "traceback": [
      "\u001b[0;31m---------------------------------------------------------------------------\u001b[0m",
      "\u001b[0;31mAttributeError\u001b[0m                            Traceback (most recent call last)",
      "\u001b[0;32m/tmp/ipykernel_5627/1117272057.py\u001b[0m in \u001b[0;36m<module>\u001b[0;34m\u001b[0m\n\u001b[0;32m----> 1\u001b[0;31m \u001b[0mManglingTest\u001b[0m\u001b[0;34m(\u001b[0m\u001b[0;34m)\u001b[0m\u001b[0;34m.\u001b[0m\u001b[0m__mangled\u001b[0m\u001b[0;34m(\u001b[0m\u001b[0;34m)\u001b[0m\u001b[0;34m\u001b[0m\u001b[0;34m\u001b[0m\u001b[0m\n\u001b[0m",
      "\u001b[0;31mAttributeError\u001b[0m: 'ManglingTest' object has no attribute '__mangled'"
     ]
    }
   ],
   "source": [
    "ManglingTest().__mangled()"
   ]
  },
  {
   "cell_type": "code",
   "execution_count": 41,
   "id": "272d963c",
   "metadata": {},
   "outputs": [],
   "source": [
    "### how to access the dunder methods"
   ]
  },
  {
   "cell_type": "code",
   "execution_count": 42,
   "id": "d2af1c64",
   "metadata": {},
   "outputs": [],
   "source": [
    "class MangledMethod:\n",
    "    def __method(self):\n",
    "        return 42\n",
    "    def call_it(self):\n",
    "        return self.__method()"
   ]
  },
  {
   "cell_type": "code",
   "execution_count": 43,
   "id": "0daf5573",
   "metadata": {},
   "outputs": [
    {
     "ename": "AttributeError",
     "evalue": "'MangledMethod' object has no attribute '__method'",
     "output_type": "error",
     "traceback": [
      "\u001b[0;31m---------------------------------------------------------------------------\u001b[0m",
      "\u001b[0;31mAttributeError\u001b[0m                            Traceback (most recent call last)",
      "\u001b[0;32m/tmp/ipykernel_5627/2847256654.py\u001b[0m in \u001b[0;36m<module>\u001b[0;34m\u001b[0m\n\u001b[0;32m----> 1\u001b[0;31m \u001b[0mMangledMethod\u001b[0m\u001b[0;34m(\u001b[0m\u001b[0;34m)\u001b[0m\u001b[0;34m.\u001b[0m\u001b[0m__method\u001b[0m\u001b[0;34m(\u001b[0m\u001b[0;34m)\u001b[0m\u001b[0;34m\u001b[0m\u001b[0;34m\u001b[0m\u001b[0m\n\u001b[0m",
      "\u001b[0;31mAttributeError\u001b[0m: 'MangledMethod' object has no attribute '__method'"
     ]
    }
   ],
   "source": [
    "MangledMethod().__method()"
   ]
  },
  {
   "cell_type": "code",
   "execution_count": 44,
   "id": "cd0c02c3",
   "metadata": {},
   "outputs": [
    {
     "data": {
      "text/plain": [
       "42"
      ]
     },
     "execution_count": 44,
     "metadata": {},
     "output_type": "execute_result"
    }
   ],
   "source": [
    "MangledMethod().call_it()"
   ]
  },
  {
   "cell_type": "code",
   "execution_count": 45,
   "id": "0a9c5803",
   "metadata": {},
   "outputs": [],
   "source": [
    "# another way to access\n",
    "_MangledGlobal__mangled = 23\n",
    "class MangledGlobal:\n",
    "    def test(self):\n",
    "        return __mangled"
   ]
  },
  {
   "cell_type": "code",
   "execution_count": 46,
   "id": "555275ce",
   "metadata": {},
   "outputs": [
    {
     "data": {
      "text/plain": [
       "23"
      ]
     },
     "execution_count": 46,
     "metadata": {},
     "output_type": "execute_result"
    }
   ],
   "source": [
    "MangledGlobal().test()"
   ]
  },
  {
   "cell_type": "code",
   "execution_count": 47,
   "id": "b0d7a6d6",
   "metadata": {},
   "outputs": [],
   "source": [
    "## Double Leading and Trailing underscores"
   ]
  },
  {
   "cell_type": "code",
   "execution_count": 48,
   "id": "cecfe6dd",
   "metadata": {},
   "outputs": [],
   "source": [
    "class PrefixPostfixTest:\n",
    "    def __init__(self):\n",
    "        self.__bam__ = 42"
   ]
  },
  {
   "cell_type": "code",
   "execution_count": 49,
   "id": "651d9c42",
   "metadata": {},
   "outputs": [
    {
     "data": {
      "text/plain": [
       "42"
      ]
     },
     "execution_count": 49,
     "metadata": {},
     "output_type": "execute_result"
    }
   ],
   "source": [
    "PrefixPostfixTest().__bam__"
   ]
  },
  {
   "cell_type": "code",
   "execution_count": 50,
   "id": "35a4059d",
   "metadata": {},
   "outputs": [],
   "source": [
    "# String formating "
   ]
  },
  {
   "cell_type": "code",
   "execution_count": null,
   "id": "e01add16",
   "metadata": {},
   "outputs": [],
   "source": [
    "## 1.old style "
   ]
  },
  {
   "cell_type": "code",
   "execution_count": 57,
   "id": "2691d3af",
   "metadata": {},
   "outputs": [
    {
     "name": "stdout",
     "output_type": "stream",
     "text": [
      "Hello, Rahul\n"
     ]
    }
   ],
   "source": [
    "name = 'Rahul'\n",
    "print('Hello, %s' %name)"
   ]
  },
  {
   "cell_type": "code",
   "execution_count": 58,
   "id": "d8858111",
   "metadata": {},
   "outputs": [],
   "source": [
    "## 2. New Style"
   ]
  },
  {
   "cell_type": "code",
   "execution_count": 61,
   "id": "f88d747b",
   "metadata": {},
   "outputs": [
    {
     "name": "stdout",
     "output_type": "stream",
     "text": [
      "hello ,Rahul\n",
      "hello,Rahul\n"
     ]
    }
   ],
   "source": [
    "print('hello ,{}'.format(name))\n",
    "print('hello,{name}'.format(name = name))"
   ]
  },
  {
   "cell_type": "code",
   "execution_count": 62,
   "id": "dc749e3f",
   "metadata": {},
   "outputs": [],
   "source": [
    "## 3. Literal String Interpolation "
   ]
  },
  {
   "cell_type": "code",
   "execution_count": 63,
   "id": "121673e9",
   "metadata": {},
   "outputs": [
    {
     "name": "stdout",
     "output_type": "stream",
     "text": [
      "hello,Rahul\n"
     ]
    }
   ],
   "source": [
    "print(f'hello,{name}')"
   ]
  },
  {
   "cell_type": "code",
   "execution_count": 64,
   "id": "b3c54b84",
   "metadata": {},
   "outputs": [],
   "source": [
    "## 4. Template Strings"
   ]
  },
  {
   "cell_type": "code",
   "execution_count": 66,
   "id": "bdea83d7",
   "metadata": {},
   "outputs": [
    {
     "data": {
      "text/plain": [
       "'hey,Rahul!'"
      ]
     },
     "execution_count": 66,
     "metadata": {},
     "output_type": "execute_result"
    }
   ],
   "source": [
    "from string import Template\n",
    "t = Template('hey,$name!')\n",
    "t.substitute(name = name)"
   ]
  },
  {
   "cell_type": "code",
   "execution_count": 68,
   "id": "b7befd56",
   "metadata": {},
   "outputs": [
    {
     "data": {
      "text/plain": [
       "'hey, how are you Rahul'"
      ]
     },
     "execution_count": 68,
     "metadata": {},
     "output_type": "execute_result"
    }
   ],
   "source": [
    "templ_string = 'hey, how are you $name'\n",
    "Template(templ_string).substitute(name = name)"
   ]
  },
  {
   "cell_type": "code",
   "execution_count": 69,
   "id": "8af22dad",
   "metadata": {},
   "outputs": [],
   "source": [
    "# Nested functions"
   ]
  },
  {
   "cell_type": "code",
   "execution_count": 70,
   "id": "45b64568",
   "metadata": {},
   "outputs": [],
   "source": [
    "def speak(text):\n",
    "    def whisper(t):\n",
    "        return t.lower() + '...'\n",
    "    return whisper(text)"
   ]
  },
  {
   "cell_type": "code",
   "execution_count": 71,
   "id": "83c1572e",
   "metadata": {},
   "outputs": [
    {
     "data": {
      "text/plain": [
       "'hello, world...'"
      ]
     },
     "execution_count": 71,
     "metadata": {},
     "output_type": "execute_result"
    }
   ],
   "source": [
    "speak('hello, world')"
   ]
  },
  {
   "cell_type": "code",
   "execution_count": 72,
   "id": "024c6b3d",
   "metadata": {},
   "outputs": [],
   "source": [
    "# object behaving like functions"
   ]
  },
  {
   "cell_type": "code",
   "execution_count": 73,
   "id": "696500e9",
   "metadata": {},
   "outputs": [],
   "source": [
    "class Adder:\n",
    "    def __init__(self,n):\n",
    "        self.n = n\n",
    "    def __call__(self,x):\n",
    "        return self.n + x\n",
    "    "
   ]
  },
  {
   "cell_type": "code",
   "execution_count": 74,
   "id": "9aed9c4f",
   "metadata": {},
   "outputs": [
    {
     "data": {
      "text/plain": [
       "7"
      ]
     },
     "execution_count": 74,
     "metadata": {},
     "output_type": "execute_result"
    }
   ],
   "source": [
    "plus_3 = Adder(3)\n",
    "plus_3(4)"
   ]
  },
  {
   "cell_type": "code",
   "execution_count": 75,
   "id": "e0825431",
   "metadata": {},
   "outputs": [],
   "source": [
    "# lambda functions "
   ]
  },
  {
   "cell_type": "code",
   "execution_count": 76,
   "id": "7cf18546",
   "metadata": {},
   "outputs": [
    {
     "data": {
      "text/plain": [
       "8"
      ]
     },
     "execution_count": 76,
     "metadata": {},
     "output_type": "execute_result"
    }
   ],
   "source": [
    "add = lambda x,y : x + y\n",
    "add(5,3)"
   ]
  },
  {
   "cell_type": "code",
   "execution_count": 77,
   "id": "07f0e4a6",
   "metadata": {},
   "outputs": [
    {
     "data": {
      "text/plain": [
       "10"
      ]
     },
     "execution_count": 77,
     "metadata": {},
     "output_type": "execute_result"
    }
   ],
   "source": [
    "# another way\n",
    "(lambda x,y : x+y)(5,5)"
   ]
  },
  {
   "cell_type": "code",
   "execution_count": 78,
   "id": "932c66e7",
   "metadata": {},
   "outputs": [],
   "source": [
    "# lambdas you can use "
   ]
  },
  {
   "cell_type": "code",
   "execution_count": 83,
   "id": "0a4505b5",
   "metadata": {},
   "outputs": [
    {
     "name": "stdout",
     "output_type": "stream",
     "text": [
      "[(1, 'd'), (2, 'b'), (3, 'c'), (4, 'a')]\n",
      "[(4, 'a'), (2, 'b'), (3, 'c'), (1, 'd')]\n"
     ]
    }
   ],
   "source": [
    "tuples = [(1,'d'),(2,'b'),(4,'a'),(3,'c')]\n",
    "print(sorted(tuples,key = lambda x:x[0])) # sorting is performed based on the numbers inside a tuple which is inside the list\n",
    "print(sorted(tuples,key = lambda x:x[1])) # sorting is performed based on the alphabets inside a tuple which is inside the list"
   ]
  },
  {
   "cell_type": "code",
   "execution_count": 84,
   "id": "9db5b7e3",
   "metadata": {},
   "outputs": [],
   "source": [
    "# lambda function you cannot use"
   ]
  },
  {
   "cell_type": "code",
   "execution_count": 85,
   "id": "b496cbb5",
   "metadata": {},
   "outputs": [],
   "source": [
    "# harmful\n",
    "class Car:\n",
    "    rev = lambda self : print('Wroom!')      # technically incorrect way to use it \n",
    "    crash = lambda self : print('Boom!!!')   # kind of confusing , bugfixing error maybe hard"
   ]
  },
  {
   "cell_type": "code",
   "execution_count": 86,
   "id": "163c1ae9",
   "metadata": {},
   "outputs": [
    {
     "name": "stdout",
     "output_type": "stream",
     "text": [
      "Boom!!!\n"
     ]
    }
   ],
   "source": [
    "my_car = Car()\n",
    "my_car.crash()"
   ]
  },
  {
   "cell_type": "code",
   "execution_count": 90,
   "id": "3c93fefd",
   "metadata": {},
   "outputs": [
    {
     "name": "stdout",
     "output_type": "stream",
     "text": [
      "method 1: harmful\n",
      "[0, 2, 4, 6, 8, 10, 12, 14]\n",
      "method 2: Better\n",
      "[0, 2, 4, 6, 8, 10, 12, 14]\n"
     ]
    }
   ],
   "source": [
    "# harmful using map and filter methods \n",
    "print('method 1: harmful')\n",
    "print(list(filter(lambda x:x%2 == 0,range(16))))\n",
    "\n",
    "# better \n",
    "print('method 2: Better')\n",
    "print([i for i in range(16) if i %2 == 0])"
   ]
  },
  {
   "cell_type": "code",
   "execution_count": null,
   "id": "8a3c7358",
   "metadata": {},
   "outputs": [],
   "source": [
    "# The power of Decorators\n",
    "\n",
    "# -logging \n",
    "# -enforcing access control and authentication\n",
    "# -instrumentation and timing functions\n",
    "# -rate-limiting\n",
    "# -caching and more"
   ]
  },
  {
   "cell_type": "code",
   "execution_count": 91,
   "id": "2abcd794",
   "metadata": {},
   "outputs": [],
   "source": [
    "# python Decorator Basics "
   ]
  },
  {
   "cell_type": "code",
   "execution_count": 102,
   "id": "75347b87",
   "metadata": {},
   "outputs": [],
   "source": [
    "def null_decorator(func):\n",
    "    return func"
   ]
  },
  {
   "cell_type": "code",
   "execution_count": 103,
   "id": "2eccf6e8",
   "metadata": {},
   "outputs": [],
   "source": [
    "def greet():\n",
    "    return 'Hello!'"
   ]
  },
  {
   "cell_type": "code",
   "execution_count": 104,
   "id": "2e552ee2",
   "metadata": {},
   "outputs": [
    {
     "data": {
      "text/plain": [
       "'Hello!'"
      ]
     },
     "execution_count": 104,
     "metadata": {},
     "output_type": "execute_result"
    }
   ],
   "source": [
    "greet = null_decorator(greet)\n",
    "greet()"
   ]
  },
  {
   "cell_type": "code",
   "execution_count": 97,
   "id": "6a5c1ff0",
   "metadata": {},
   "outputs": [],
   "source": [
    "@null_decorator\n",
    "def greet():\n",
    "    return 'hello'"
   ]
  },
  {
   "cell_type": "code",
   "execution_count": 98,
   "id": "180d5a6e",
   "metadata": {},
   "outputs": [
    {
     "data": {
      "text/plain": [
       "'hello'"
      ]
     },
     "execution_count": 98,
     "metadata": {},
     "output_type": "execute_result"
    }
   ],
   "source": [
    "greet()"
   ]
  },
  {
   "cell_type": "code",
   "execution_count": 105,
   "id": "93c21214",
   "metadata": {},
   "outputs": [],
   "source": [
    "## Modification behaviour of Decorators"
   ]
  },
  {
   "cell_type": "code",
   "execution_count": 106,
   "id": "c18225b5",
   "metadata": {},
   "outputs": [],
   "source": [
    "def uppercase(func):\n",
    "    def wrapper():\n",
    "        original_result = func()\n",
    "        modified_result = original_result.upper()\n",
    "        return modified_result\n",
    "    return wrapper"
   ]
  },
  {
   "cell_type": "code",
   "execution_count": 110,
   "id": "56e40f0c",
   "metadata": {},
   "outputs": [
    {
     "data": {
      "text/plain": [
       "'HELLO!'"
      ]
     },
     "execution_count": 110,
     "metadata": {},
     "output_type": "execute_result"
    }
   ],
   "source": [
    "@uppercase\n",
    "def greet():\n",
    "    return 'hello!'\n",
    "greet()"
   ]
  },
  {
   "cell_type": "code",
   "execution_count": 111,
   "id": "a4e4357c",
   "metadata": {},
   "outputs": [],
   "source": [
    "# mulitple decorators"
   ]
  },
  {
   "cell_type": "code",
   "execution_count": 113,
   "id": "02eecf05",
   "metadata": {},
   "outputs": [],
   "source": [
    "def strong(func):\n",
    "    def wrapper():\n",
    "        return '<strong>' + func() + '</strong>'\n",
    "    return wrapper\n",
    "def emphasis(func):\n",
    "    def wrapper():\n",
    "        return '<em>' + func() + '</em>'\n",
    "    return wrapper"
   ]
  },
  {
   "cell_type": "code",
   "execution_count": 114,
   "id": "d06c0a1e",
   "metadata": {},
   "outputs": [
    {
     "data": {
      "text/plain": [
       "'<strong><em>hello!</em></strong>'"
      ]
     },
     "execution_count": 114,
     "metadata": {},
     "output_type": "execute_result"
    }
   ],
   "source": [
    "@strong\n",
    "@emphasis\n",
    "def greet():\n",
    "    return 'hello!'\n",
    "greet()"
   ]
  },
  {
   "cell_type": "code",
   "execution_count": 115,
   "id": "1803a368",
   "metadata": {},
   "outputs": [],
   "source": [
    "# accepting arguments "
   ]
  },
  {
   "cell_type": "code",
   "execution_count": 117,
   "id": "7dcf9370",
   "metadata": {},
   "outputs": [],
   "source": [
    "def proxy(func):\n",
    "    def wrapper(*args, **kwargs):\n",
    "        return func(*args, **kwargs)\n",
    "    return wrapper\n",
    "\n",
    "def trace(func):\n",
    "    def wrapper(*args, **kwargs):\n",
    "        print(f'TRACE: calling {func.__name__}() 'f'with {args}, {kwargs}')\n",
    "        original_result = func(*args, **kwargs)\n",
    "        print(f'TRACE: {func.__name__}() 'f'returned {original_result!r}')\n",
    "        return original_result\n",
    "    return wrapper"
   ]
  },
  {
   "cell_type": "code",
   "execution_count": 119,
   "id": "940d874f",
   "metadata": {},
   "outputs": [
    {
     "name": "stdout",
     "output_type": "stream",
     "text": [
      "TRACE: calling say() with ('Jane', 'Hello world'), {}\n",
      "TRACE: say() returned 'Jane:Hello world'\n"
     ]
    },
    {
     "data": {
      "text/plain": [
       "'Jane:Hello world'"
      ]
     },
     "execution_count": 119,
     "metadata": {},
     "output_type": "execute_result"
    }
   ],
   "source": [
    "@trace\n",
    "def say(name,line):\n",
    "    return f'{name}:{line}'\n",
    "\n",
    "say('Jane','Hello world')"
   ]
  },
  {
   "cell_type": "code",
   "execution_count": null,
   "id": "4b42ae84",
   "metadata": {},
   "outputs": [],
   "source": [
    "# debuggable decorators"
   ]
  },
  {
   "cell_type": "code",
   "execution_count": 121,
   "id": "2850b082",
   "metadata": {},
   "outputs": [
    {
     "data": {
      "text/plain": [
       "'greet'"
      ]
     },
     "execution_count": 121,
     "metadata": {},
     "output_type": "execute_result"
    }
   ],
   "source": [
    "def greet():\n",
    "    \"\"\"Return a friendly greeting.\"\"\"\n",
    "    return 'Hello!'\n",
    "decorated_greet = uppercase(greet)\n",
    "greet.__name__"
   ]
  },
  {
   "cell_type": "code",
   "execution_count": 122,
   "id": "2c49f593",
   "metadata": {},
   "outputs": [
    {
     "data": {
      "text/plain": [
       "'Return a friendly greeting.'"
      ]
     },
     "execution_count": 122,
     "metadata": {},
     "output_type": "execute_result"
    }
   ],
   "source": [
    "greet.__doc__"
   ]
  },
  {
   "cell_type": "code",
   "execution_count": 123,
   "id": "7d424f38",
   "metadata": {},
   "outputs": [
    {
     "data": {
      "text/plain": [
       "'wrapper'"
      ]
     },
     "execution_count": 123,
     "metadata": {},
     "output_type": "execute_result"
    }
   ],
   "source": [
    "decorated_greet.__name__"
   ]
  },
  {
   "cell_type": "code",
   "execution_count": 124,
   "id": "5c513fde",
   "metadata": {},
   "outputs": [],
   "source": [
    "decorated_greet.__doc__"
   ]
  },
  {
   "cell_type": "code",
   "execution_count": 125,
   "id": "122557d9",
   "metadata": {},
   "outputs": [],
   "source": [
    "import functools\n",
    "def uppercase(func):\n",
    "    @functools.wraps(func)\n",
    "    def wrapper():\n",
    "        return func().upper()\n",
    "    return wrapper"
   ]
  },
  {
   "cell_type": "code",
   "execution_count": 127,
   "id": "169bb486",
   "metadata": {},
   "outputs": [],
   "source": [
    "@uppercase\n",
    "def greet():\n",
    "    \"\"\"Return a friendly greeting.\"\"\"\n",
    "    return 'Hello!'"
   ]
  },
  {
   "cell_type": "code",
   "execution_count": 128,
   "id": "e829211a",
   "metadata": {},
   "outputs": [
    {
     "data": {
      "text/plain": [
       "'greet'"
      ]
     },
     "execution_count": 128,
     "metadata": {},
     "output_type": "execute_result"
    }
   ],
   "source": [
    "greet.__name__"
   ]
  },
  {
   "cell_type": "code",
   "execution_count": 129,
   "id": "60340ba3",
   "metadata": {},
   "outputs": [
    {
     "data": {
      "text/plain": [
       "'Return a friendly greeting.'"
      ]
     },
     "execution_count": 129,
     "metadata": {},
     "output_type": "execute_result"
    }
   ],
   "source": [
    "greet.__doc__"
   ]
  },
  {
   "cell_type": "code",
   "execution_count": null,
   "id": "83270f29",
   "metadata": {},
   "outputs": [],
   "source": []
  }
 ],
 "metadata": {
  "kernelspec": {
   "display_name": "Python 3 (ipykernel)",
   "language": "python",
   "name": "python3"
  },
  "language_info": {
   "codemirror_mode": {
    "name": "ipython",
    "version": 3
   },
   "file_extension": ".py",
   "mimetype": "text/x-python",
   "name": "python",
   "nbconvert_exporter": "python",
   "pygments_lexer": "ipython3",
   "version": "3.10.6"
  }
 },
 "nbformat": 4,
 "nbformat_minor": 5
}
